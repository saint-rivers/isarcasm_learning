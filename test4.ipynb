{
 "cells": [
  {
   "cell_type": "code",
   "execution_count": 63,
   "metadata": {},
   "outputs": [],
   "source": [
    "import pandas as pd\n",
    "from sklearn.model_selection import train_test_split\n",
    "from sklearn.preprocessing import LabelBinarizer"
   ]
  },
  {
   "cell_type": "code",
   "execution_count": 64,
   "metadata": {},
   "outputs": [],
   "source": [
    "df = pd.read_csv('data/soraby_sarcasm2/GEN-sarc-notsarc.csv')"
   ]
  },
  {
   "cell_type": "code",
   "execution_count": 66,
   "metadata": {},
   "outputs": [],
   "source": [
    "lb = LabelBinarizer(neg_label=0)\n",
    "df['class'] = lb.fit_transform(df['class']).flatten()\n",
    "x_train, x_val, y_train, y_val = train_test_split(df['text'], df['class'], test_size=0.2, random_state=34)"
   ]
  },
  {
   "cell_type": "code",
   "execution_count": 68,
   "metadata": {},
   "outputs": [],
   "source": [
    "train = pd.DataFrame([x_train, y_train]).T\n",
    "train = train.reset_index()[['text', 'class']]\n",
    "train.to_csv(\"data/soraby_sarcasm2/sarc_train.csv\")\n",
    "\n",
    "test = pd.DataFrame([x_val, y_val]).T\n",
    "test = test.reset_index()[['text', 'class']]\n",
    "test.to_csv(\"data/soraby_sarcasm2/sarc_test.csv\")"
   ]
  }
 ],
 "metadata": {
  "kernelspec": {
   "display_name": ".venv",
   "language": "python",
   "name": "python3"
  },
  "language_info": {
   "codemirror_mode": {
    "name": "ipython",
    "version": 3
   },
   "file_extension": ".py",
   "mimetype": "text/x-python",
   "name": "python",
   "nbconvert_exporter": "python",
   "pygments_lexer": "ipython3",
   "version": "3.12.3"
  }
 },
 "nbformat": 4,
 "nbformat_minor": 2
}
